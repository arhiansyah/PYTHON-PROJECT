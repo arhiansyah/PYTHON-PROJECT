{
  "nbformat": 4,
  "nbformat_minor": 0,
  "metadata": {
    "colab": {
      "name": "TugasSpamFilter.ipynb",
      "provenance": [],
      "collapsed_sections": [],
      "authorship_tag": "ABX9TyMrUhBFh913TV8L425nNJrS",
      "include_colab_link": true
    },
    "kernelspec": {
      "name": "python3",
      "display_name": "Python 3"
    },
    "language_info": {
      "name": "python"
    }
  },
  "cells": [
    {
      "cell_type": "markdown",
      "metadata": {
        "id": "view-in-github",
        "colab_type": "text"
      },
      "source": [
        "<a href=\"https://colab.research.google.com/github/arhiansyah/PYTHON-PROJECT/blob/main/TugasSpamFilter.ipynb\" target=\"_parent\"><img src=\"https://colab.research.google.com/assets/colab-badge.svg\" alt=\"Open In Colab\"/></a>"
      ]
    },
    {
      "cell_type": "code",
      "metadata": {
        "colab": {
          "base_uri": "https://localhost:8080/"
        },
        "id": "U6k0V42_asli",
        "outputId": "c8e4b629-993d-45b2-c32a-735b946f8629"
      },
      "source": [
        "#connect drive\n",
        "from google.colab import drive\n",
        "drive.mount('/content/drive')"
      ],
      "execution_count": null,
      "outputs": [
        {
          "output_type": "stream",
          "text": [
            "Mounted at /content/drive\n"
          ],
          "name": "stdout"
        }
      ]
    },
    {
      "cell_type": "code",
      "metadata": {
        "id": "SsliXZC1aw4x"
      },
      "source": [
        "#source data\n",
        "data_file = '/content/drive/My Drive/Project/Colab Notebooks/SmsSpamFiltering/SMSSpamCollection.txt'"
      ],
      "execution_count": null,
      "outputs": []
    },
    {
      "cell_type": "code",
      "metadata": {
        "colab": {
          "base_uri": "https://localhost:8080/",
          "height": 204
        },
        "id": "Y2akPceUa8M4",
        "outputId": "5b7d7565-584b-4bc0-c3ac-64302b6a40ac"
      },
      "source": [
        "import pandas as pd\n",
        "\n",
        "data = pd.read_csv(data_file, sep='\\t', header=None, names=['label', 'sms'])\n",
        "data.head()"
      ],
      "execution_count": null,
      "outputs": [
        {
          "output_type": "execute_result",
          "data": {
            "text/html": [
              "<div>\n",
              "<style scoped>\n",
              "    .dataframe tbody tr th:only-of-type {\n",
              "        vertical-align: middle;\n",
              "    }\n",
              "\n",
              "    .dataframe tbody tr th {\n",
              "        vertical-align: top;\n",
              "    }\n",
              "\n",
              "    .dataframe thead th {\n",
              "        text-align: right;\n",
              "    }\n",
              "</style>\n",
              "<table border=\"1\" class=\"dataframe\">\n",
              "  <thead>\n",
              "    <tr style=\"text-align: right;\">\n",
              "      <th></th>\n",
              "      <th>label</th>\n",
              "      <th>sms</th>\n",
              "    </tr>\n",
              "  </thead>\n",
              "  <tbody>\n",
              "    <tr>\n",
              "      <th>0</th>\n",
              "      <td>ham</td>\n",
              "      <td>Go until jurong point, crazy.. Available only ...</td>\n",
              "    </tr>\n",
              "    <tr>\n",
              "      <th>1</th>\n",
              "      <td>ham</td>\n",
              "      <td>Ok lar... Joking wif u oni...</td>\n",
              "    </tr>\n",
              "    <tr>\n",
              "      <th>2</th>\n",
              "      <td>spam</td>\n",
              "      <td>Free entry in 2 a wkly comp to win FA Cup fina...</td>\n",
              "    </tr>\n",
              "    <tr>\n",
              "      <th>3</th>\n",
              "      <td>ham</td>\n",
              "      <td>U dun say so early hor... U c already then say...</td>\n",
              "    </tr>\n",
              "    <tr>\n",
              "      <th>4</th>\n",
              "      <td>ham</td>\n",
              "      <td>Nah I don't think he goes to usf, he lives aro...</td>\n",
              "    </tr>\n",
              "  </tbody>\n",
              "</table>\n",
              "</div>"
            ],
            "text/plain": [
              "  label                                                sms\n",
              "0   ham  Go until jurong point, crazy.. Available only ...\n",
              "1   ham                      Ok lar... Joking wif u oni...\n",
              "2  spam  Free entry in 2 a wkly comp to win FA Cup fina...\n",
              "3   ham  U dun say so early hor... U c already then say...\n",
              "4   ham  Nah I don't think he goes to usf, he lives aro..."
            ]
          },
          "metadata": {
            "tags": []
          },
          "execution_count": 3
        }
      ]
    },
    {
      "cell_type": "code",
      "metadata": {
        "colab": {
          "base_uri": "https://localhost:8080/"
        },
        "id": "rSpNfH56bF_6",
        "outputId": "ef187ed6-68cd-4a87-c1a8-23aea792680a"
      },
      "source": [
        "#load stopwords and punctuation\n",
        "\n",
        "import string\n",
        "import nltk \n",
        "\n",
        "nltk.download('stopwords')\n",
        "nltk.download('punkt')\n",
        "\n",
        "stopwords = nltk.corpus.stopwords.words('english')\n",
        "punctuation = string.punctuation\n",
        "\n",
        "print(stopwords[:5])\n",
        "print(punctuation)"
      ],
      "execution_count": null,
      "outputs": [
        {
          "output_type": "stream",
          "text": [
            "[nltk_data] Downloading package stopwords to /root/nltk_data...\n",
            "[nltk_data]   Unzipping corpora/stopwords.zip.\n",
            "[nltk_data] Downloading package punkt to /root/nltk_data...\n",
            "[nltk_data]   Unzipping tokenizers/punkt.zip.\n",
            "['i', 'me', 'my', 'myself', 'we']\n",
            "!\"#$%&'()*+,-./:;<=>?@[\\]^_`{|}~\n"
          ],
          "name": "stdout"
        }
      ]
    },
    {
      "cell_type": "code",
      "metadata": {
        "colab": {
          "base_uri": "https://localhost:8080/",
          "height": 204
        },
        "id": "gzQg7Ce0bYy6",
        "outputId": "9ddbe2b8-e741-4950-921a-bfe2cfe4c8d6"
      },
      "source": [
        "#pre-process sms content\n",
        "\n",
        "def pre_process(sms):\n",
        "  lowercase = \"\".join([char.lower() for char in sms if char not in punctuation])\n",
        "  tokenize = nltk.tokenize.word_tokenize(lowercase)\n",
        "  remove_stopwords = [word for word in tokenize if word not in stopwords]\n",
        "  return remove_stopwords\n",
        "\n",
        "data['processed'] = data['sms'].apply(lambda x: pre_process(x))\n",
        "data.head()  "
      ],
      "execution_count": null,
      "outputs": [
        {
          "output_type": "execute_result",
          "data": {
            "text/html": [
              "<div>\n",
              "<style scoped>\n",
              "    .dataframe tbody tr th:only-of-type {\n",
              "        vertical-align: middle;\n",
              "    }\n",
              "\n",
              "    .dataframe tbody tr th {\n",
              "        vertical-align: top;\n",
              "    }\n",
              "\n",
              "    .dataframe thead th {\n",
              "        text-align: right;\n",
              "    }\n",
              "</style>\n",
              "<table border=\"1\" class=\"dataframe\">\n",
              "  <thead>\n",
              "    <tr style=\"text-align: right;\">\n",
              "      <th></th>\n",
              "      <th>label</th>\n",
              "      <th>sms</th>\n",
              "      <th>processed</th>\n",
              "    </tr>\n",
              "  </thead>\n",
              "  <tbody>\n",
              "    <tr>\n",
              "      <th>0</th>\n",
              "      <td>ham</td>\n",
              "      <td>Go until jurong point, crazy.. Available only ...</td>\n",
              "      <td>[go, jurong, point, crazy, available, bugis, n...</td>\n",
              "    </tr>\n",
              "    <tr>\n",
              "      <th>1</th>\n",
              "      <td>ham</td>\n",
              "      <td>Ok lar... Joking wif u oni...</td>\n",
              "      <td>[ok, lar, joking, wif, u, oni]</td>\n",
              "    </tr>\n",
              "    <tr>\n",
              "      <th>2</th>\n",
              "      <td>spam</td>\n",
              "      <td>Free entry in 2 a wkly comp to win FA Cup fina...</td>\n",
              "      <td>[free, entry, 2, wkly, comp, win, fa, cup, fin...</td>\n",
              "    </tr>\n",
              "    <tr>\n",
              "      <th>3</th>\n",
              "      <td>ham</td>\n",
              "      <td>U dun say so early hor... U c already then say...</td>\n",
              "      <td>[u, dun, say, early, hor, u, c, already, say]</td>\n",
              "    </tr>\n",
              "    <tr>\n",
              "      <th>4</th>\n",
              "      <td>ham</td>\n",
              "      <td>Nah I don't think he goes to usf, he lives aro...</td>\n",
              "      <td>[nah, dont, think, goes, usf, lives, around, t...</td>\n",
              "    </tr>\n",
              "  </tbody>\n",
              "</table>\n",
              "</div>"
            ],
            "text/plain": [
              "  label  ...                                          processed\n",
              "0   ham  ...  [go, jurong, point, crazy, available, bugis, n...\n",
              "1   ham  ...                     [ok, lar, joking, wif, u, oni]\n",
              "2  spam  ...  [free, entry, 2, wkly, comp, win, fa, cup, fin...\n",
              "3   ham  ...      [u, dun, say, early, hor, u, c, already, say]\n",
              "4   ham  ...  [nah, dont, think, goes, usf, lives, around, t...\n",
              "\n",
              "[5 rows x 3 columns]"
            ]
          },
          "metadata": {
            "tags": []
          },
          "execution_count": 5
        }
      ]
    },
    {
      "cell_type": "code",
      "metadata": {
        "colab": {
          "base_uri": "https://localhost:8080/"
        },
        "id": "AEHvVi2kfBBf",
        "outputId": "bf507c0f-9bdb-4935-e03d-ef29f5c3e9aa"
      },
      "source": [
        "#categorizing ham/spam associated words\n",
        "\n",
        "def categorize_words():\n",
        "  spam_words = []\n",
        "  ham_words = []\n",
        "\n",
        "  #spam assosiated words\n",
        "  for sms in data['processed'][data['label'] == 'spam']:\n",
        "    for word in sms:\n",
        "      spam_words.append(word)\n",
        "\n",
        "  #ham assosiated words\n",
        "  for sms in data['processed'][data['label'] == 'ham']:\n",
        "    for word in sms:\n",
        "      ham_words.append(word)      \n",
        "  \n",
        "  return spam_words, ham_words\n",
        "\n",
        "\n",
        "spam_words, ham_words = categorize_words()\n",
        "\n",
        "print(spam_words[:5])\n",
        "print(ham_words[:5])"
      ],
      "execution_count": null,
      "outputs": [
        {
          "output_type": "stream",
          "text": [
            "['free', 'entry', '2', 'wkly', 'comp']\n",
            "['go', 'jurong', 'point', 'crazy', 'available']\n"
          ],
          "name": "stdout"
        }
      ]
    },
    {
      "cell_type": "code",
      "metadata": {
        "id": "lMbD6FBEfGlM"
      },
      "source": [
        "#itterate over all the words from the user input and count their occurances in both ham_words and spam_words\n",
        "\n",
        "def predict(user_input):\n",
        "  spam_counter = 0\n",
        "  ham_counter = 0\n",
        "\n",
        "  for word in user_input:\n",
        "    spam_counter += spam_words.count(word)\n",
        "    ham_counter += ham_words.count(word)\n",
        "\n",
        "  print('========================= RESULT =======================')\n",
        "\n",
        "  if ham_counter > spam_counter:\n",
        "    #adding accuracy\n",
        "    accuracy = round ((ham_counter / (ham_counter + spam_counter)) * 100, 2) \n",
        "    print('message is not spam, with {}% accuracy'.format(accuracy))  \n",
        "  elif spam_counter > ham_counter:\n",
        "    #adding accuracy\n",
        "    accuracy = round ((spam_counter / (ham_counter + spam_counter)) * 100, 2)\n",
        "    print('message is spam, with {}% accuracy'.format(accuracy))\n",
        "  else:\n",
        "    print('message could be spam, with 50% accuracy')  "
      ],
      "execution_count": null,
      "outputs": []
    },
    {
      "cell_type": "code",
      "metadata": {
        "colab": {
          "base_uri": "https://localhost:8080/"
        },
        "id": "NlMjTrgkfTW3",
        "outputId": "fe83b94d-adeb-4d3d-d433-8938ab757e08"
      },
      "source": [
        "#collect user input\n",
        "\n",
        "user_input = input('please type a spam or ham message to check if our function predicts properity\\n')"
      ],
      "execution_count": null,
      "outputs": [
        {
          "output_type": "stream",
          "text": [
            "please type a spam or ham message to check if our function predicts properity\n",
            "Hi tom, how are you?\n"
          ],
          "name": "stdout"
        }
      ]
    },
    {
      "cell_type": "code",
      "metadata": {
        "colab": {
          "base_uri": "https://localhost:8080/"
        },
        "id": "f0wePS_zfWbO",
        "outputId": "4c227c64-e4c1-4d61-c69a-68e6f00fce77"
      },
      "source": [
        "processed_input = pre_process(user_input)\n",
        "predict(processed_input)"
      ],
      "execution_count": null,
      "outputs": [
        {
          "output_type": "stream",
          "text": [
            "========================= RESULT =======================\n",
            "message is not spam, with 87.5% accuracy\n"
          ],
          "name": "stdout"
        }
      ]
    },
    {
      "cell_type": "code",
      "metadata": {
        "id": "pxpOvt5ufiBo"
      },
      "source": [
        ""
      ],
      "execution_count": null,
      "outputs": []
    }
  ]
}